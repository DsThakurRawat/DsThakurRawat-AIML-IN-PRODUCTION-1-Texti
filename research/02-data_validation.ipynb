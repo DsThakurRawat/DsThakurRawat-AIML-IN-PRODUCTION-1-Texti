{
 "cells": [
  {
   "cell_type": "code",
   "execution_count": 1,
   "id": "fff4e77c",
   "metadata": {},
   "outputs": [],
   "source": [
    "import os\n",
    "import sys\n",
    "\n",
    "# Set working directory to your project root (where config, src, etc. are)\n",
    "os.chdir(\"/home/divyansh-rawat/AIML in Production-Texti\")\n",
    "\n",
    "# Add src to sys.path so Python can find 'textsummarizer'\n",
    "sys.path.append(os.path.abspath(\"src\"))"
   ]
  },
  {
   "cell_type": "code",
   "execution_count": 2,
   "id": "1179c06e",
   "metadata": {},
   "outputs": [],
   "source": [
    "import os\n",
    "os.chdir(\"/home/divyansh-rawat/AIML in Production-Texti\")"
   ]
  },
  {
   "cell_type": "code",
   "execution_count": 3,
   "id": "562e2baa",
   "metadata": {},
   "outputs": [],
   "source": [
    "import os"
   ]
  },
  {
   "cell_type": "code",
   "execution_count": 4,
   "id": "39560ade",
   "metadata": {},
   "outputs": [],
   "source": [
    "import os\n",
    "import sys\n",
    "\n",
    "# Set working directory to your project root (where config, src, etc. are)\n",
    "os.chdir(\"/home/divyansh-rawat/AIML in Production-Texti\")\n",
    "\n",
    "# Add src to sys.path so Python can find 'textsummarizer'\n",
    "sys.path.append(os.path.abspath(\"src\"))"
   ]
  },
  {
   "cell_type": "code",
   "execution_count": 5,
   "id": "29ba1874",
   "metadata": {},
   "outputs": [],
   "source": [
    "import sys\n",
    "import os\n",
    "sys.path.append(os.path.abspath(\"..\"))"
   ]
  },
  {
   "cell_type": "code",
   "execution_count": 6,
   "id": "f61df78a",
   "metadata": {},
   "outputs": [
    {
     "data": {
      "text/plain": [
       "'/home/divyansh-rawat/AIML in Production-Texti'"
      ]
     },
     "execution_count": 6,
     "metadata": {},
     "output_type": "execute_result"
    }
   ],
   "source": [
    "%pwd\n"
   ]
  },
  {
   "cell_type": "code",
   "execution_count": 7,
   "id": "f66f07bb",
   "metadata": {},
   "outputs": [],
   "source": [
    "#os.chdir(\"../\")"
   ]
  },
  {
   "cell_type": "code",
   "execution_count": 8,
   "id": "084d0cf0",
   "metadata": {},
   "outputs": [
    {
     "data": {
      "text/plain": [
       "'/home/divyansh-rawat/AIML in Production-Texti'"
      ]
     },
     "execution_count": 8,
     "metadata": {},
     "output_type": "execute_result"
    }
   ],
   "source": [
    "%pwd"
   ]
  },
  {
   "cell_type": "code",
   "execution_count": 9,
   "id": "3d5c0f54",
   "metadata": {},
   "outputs": [],
   "source": [
    "from dataclasses import dataclass, field\n",
    "from pathlib import Path\n",
    "\n",
    "@dataclass(frozen=True)\n",
    "class DataValidationConfig:\n",
    "    root_dir: Path\n",
    "    STATUS_FILE: str\n",
    "    ALL_REQUIRED_FILES: list\n",
    "    \n",
    "    "
   ]
  },
  {
   "cell_type": "code",
   "execution_count": 10,
   "id": "fadd33d5",
   "metadata": {},
   "outputs": [
    {
     "name": "stdout",
     "output_type": "stream",
     "text": [
      "/home/divyansh-rawat/AIML in Production-Texti\n"
     ]
    }
   ],
   "source": [
    "import os\n",
    "print(os.getcwd())"
   ]
  },
  {
   "cell_type": "code",
   "execution_count": 11,
   "id": "f014db90",
   "metadata": {},
   "outputs": [],
   "source": [
    "from textsummarizer.constants import *\n",
    "from textsummarizer.utils.common import read_yaml, create_directories\n",
    "from textsummarizer.logging.logger import logger"
   ]
  },
  {
   "cell_type": "code",
   "execution_count": 12,
   "id": "d4cb3855",
   "metadata": {},
   "outputs": [],
   "source": [
    "from textsummarizer.constants import *\n",
    "from textsummarizer.utils.common import read_yaml, create_directories\n"
   ]
  },
  {
   "cell_type": "code",
   "execution_count": 13,
   "id": "ec6f87fb",
   "metadata": {},
   "outputs": [],
   "source": [
    "class ConfigurationManager:\n",
    "    def __init__(self):\n",
    "        config_filepath = CONFIG_FILE_PATH\n",
    "        params_filepath = PARAMS_FILE_PATH\n",
    "        self.config = read_yaml(config_filepath)\n",
    "        self.params = read_yaml(params_filepath)\n",
    "        create_directories([self.config.artifacts_root])\n",
    "\n",
    "    def get_data_validation_config(self) -> DataValidationConfig:\n",
    "        config = self.config.data_validation\n",
    "        create_directories([config.root_dir])\n",
    "        data_validation_config = DataValidationConfig(\n",
    "            root_dir=Path(config.root_dir),\n",
    "            STATUS_FILE=config.STATUS_FILE,\n",
    "            ALL_REQUIRED_FILES=config.ALL_REQUIRED_FILES\n",
    "        )\n",
    "        return data_validation_config\n",
    "        "
   ]
  },
  {
   "cell_type": "code",
   "execution_count": 14,
   "id": "6bf0b200",
   "metadata": {},
   "outputs": [],
   "source": [
    "#writing components\n",
    "import os\n",
    "from textsummarizer.logging.logger import logger\n"
   ]
  },
  {
   "cell_type": "code",
   "execution_count": 15,
   "id": "3398d3d3",
   "metadata": {},
   "outputs": [],
   "source": [
    "class DataValidation:\n",
    "    def __init__(self, config: DataValidationConfig):\n",
    "        self.config = config\n",
    "\n",
    "    def validate_all_files_exist(self) -> bool:\n",
    "        try:\n",
    "            validation_status = None\n",
    "            all_files = os.listdir(os.path.join(\"artifacts\", \"data_ingestion\",\"samsum_dataset\"))\n",
    "\n",
    "            for file in all_files:\n",
    "                if file not in self.config.ALL_REQUIRED_FILES:\n",
    "                    validation_status = False\n",
    "                    with open(self.config.STATUS_FILE, \"w\") as f:\n",
    "                        f.write(f\"validation status: {validation_status}\\n\")\n",
    "\n",
    "                else:\n",
    "                    validation_status = True\n",
    "                    with open(self.config.STATUS_FILE, \"w\") as f:\n",
    "                         f.write(f\"validation status: {validation_status}\\n\")\n",
    "\n",
    "\n",
    "            return validation_status\n",
    "        except Exception as e:\n",
    "            logger.error(f\"Error occurred during data validation: {e}\")\n",
    "            raise e\n",
    "\n",
    "            \n"
   ]
  },
  {
   "cell_type": "code",
   "execution_count": 16,
   "id": "6367077c",
   "metadata": {},
   "outputs": [
    {
     "name": "stdout",
     "output_type": "stream",
     "text": [
      "[2025-06-24 15:13:03,958: INFO: common: YAML file: config/config.yaml loaded successfully]\n",
      "[2025-06-24 15:13:03,960: INFO: common: YAML file: params.yaml loaded successfully]\n",
      "[2025-06-24 15:13:03,961: INFO: common: Created directory at: artifacts]\n",
      "[2025-06-24 15:13:03,962: INFO: common: Created directory at: artifacts/data_validation]\n"
     ]
    }
   ],
   "source": [
    "try:\n",
    "    config = ConfigurationManager()\n",
    "    data_validation_config = config.get_data_validation_config()\n",
    "    data_validation = DataValidation(config=data_validation_config)\n",
    "    data_validation.validate_all_files_exist()\n",
    "    \n",
    "except Exception as e:\n",
    "    logger.error(f\"Data validation failed: {e}\")\n",
    "    raise e"
   ]
  },
  {
   "cell_type": "code",
   "execution_count": 17,
   "id": "62aa0a23",
   "metadata": {},
   "outputs": [],
   "source": [
    "def __init__(self):\n",
    "    config_filepath = CONFIG_FILE_PATH\n",
    "    params_filepath = PARAMS_FILE_PATH\n",
    "    self.config = read_yaml(config_filepath)\n",
    "    self.params = read_yaml(params_filepath)\n",
    "    create_directories([self.config.artifacts_root])"
   ]
  },
  {
   "cell_type": "code",
   "execution_count": null,
   "id": "b8c32b60",
   "metadata": {},
   "outputs": [],
   "source": []
  },
  {
   "cell_type": "code",
   "execution_count": null,
   "id": "e0c8324c",
   "metadata": {},
   "outputs": [],
   "source": []
  },
  {
   "cell_type": "code",
   "execution_count": null,
   "id": "570c3811",
   "metadata": {},
   "outputs": [],
   "source": []
  },
  {
   "cell_type": "code",
   "execution_count": null,
   "id": "11f78e2e",
   "metadata": {},
   "outputs": [],
   "source": []
  },
  {
   "cell_type": "code",
   "execution_count": null,
   "id": "c3aab8f2",
   "metadata": {},
   "outputs": [],
   "source": []
  },
  {
   "cell_type": "code",
   "execution_count": null,
   "id": "9d721d66",
   "metadata": {},
   "outputs": [],
   "source": []
  }
 ],
 "metadata": {
  "kernelspec": {
   "display_name": "env",
   "language": "python",
   "name": "python3"
  },
  "language_info": {
   "codemirror_mode": {
    "name": "ipython",
    "version": 3
   },
   "file_extension": ".py",
   "mimetype": "text/x-python",
   "name": "python",
   "nbconvert_exporter": "python",
   "pygments_lexer": "ipython3",
   "version": "3.12.3"
  }
 },
 "nbformat": 4,
 "nbformat_minor": 5
}
