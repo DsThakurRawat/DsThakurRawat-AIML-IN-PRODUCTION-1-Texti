{
 "cells": [
  {
   "cell_type": "code",
   "execution_count": 4,
   "id": "abe9428a",
   "metadata": {},
   "outputs": [],
   "source": [
    "import sys\n",
    "import os\n",
    "\n",
    "sys.path.append(os.path.abspath('.'))"
   ]
  },
  {
   "cell_type": "code",
   "execution_count": 8,
   "id": "bf453db8",
   "metadata": {},
   "outputs": [],
   "source": [
    "import os"
   ]
  },
  {
   "cell_type": "code",
   "execution_count": 9,
   "id": "fe8ff552",
   "metadata": {},
   "outputs": [
    {
     "name": "stdout",
     "output_type": "stream",
     "text": [
      "Now working in: /home/divyansh-rawat/AIML in Production-Texti/research\n"
     ]
    }
   ],
   "source": [
    "import os\n",
    "os.chdir(os.path.dirname(os.path.abspath(\"/home/divyansh-rawat/AIML in Production-Texti/research/01_data_ingestion.ipynb\")))\n",
    "print(\"Now working in:\", os.getcwd())\n",
    "import sys\n",
    "sys.path.append(os.getcwd())"
   ]
  },
  {
   "cell_type": "code",
   "execution_count": 10,
   "id": "b7bd5d96",
   "metadata": {},
   "outputs": [
    {
     "data": {
      "text/plain": [
       "'/home/divyansh-rawat/AIML in Production-Texti/research'"
      ]
     },
     "execution_count": 10,
     "metadata": {},
     "output_type": "execute_result"
    }
   ],
   "source": [
    "%pwd #project working directory"
   ]
  },
  {
   "cell_type": "code",
   "execution_count": 11,
   "id": "ed9a90b5",
   "metadata": {},
   "outputs": [],
   "source": [
    "#os.chdir('../') #change to parent directory"
   ]
  },
  {
   "cell_type": "code",
   "execution_count": 12,
   "id": "f6fb0f0e",
   "metadata": {},
   "outputs": [],
   "source": [
    "## updating and creating entity files\n",
    "from dataclasses import dataclass\n",
    "from pathlib import Path\n",
    "\n",
    "@dataclass(frozen=True)\n",
    "class DataIngestionConfig:\n",
    "    root_dir: Path \n",
    "    source_url: str\n",
    "    local_data_file: Path\n",
    "    unzip_dir: Path"
   ]
  },
  {
   "cell_type": "code",
   "execution_count": 13,
   "id": "c95093ce",
   "metadata": {},
   "outputs": [
    {
     "name": "stdout",
     "output_type": "stream",
     "text": [
      "\u001b[33mWARNING: Skipping box as it is not installed.\u001b[0m\u001b[33m\n",
      "\u001b[0mNote: you may need to restart the kernel to use updated packages.\n",
      "Requirement already satisfied: python-box in /home/divyansh-rawat/AIML in Production-Texti/env/lib/python3.12/site-packages (7.3.2)\n",
      "Note: you may need to restart the kernel to use updated packages.\n"
     ]
    }
   ],
   "source": [
    "%pip uninstall box\n",
    "%pip install python-box"
   ]
  },
  {
   "cell_type": "code",
   "execution_count": 14,
   "id": "5fae230b",
   "metadata": {},
   "outputs": [],
   "source": [
    "from box import Box\n",
    "from box.exceptions import BoxValueError"
   ]
  },
  {
   "cell_type": "code",
   "execution_count": 15,
   "id": "940ad03a",
   "metadata": {},
   "outputs": [],
   "source": [
    "import sys\n",
    "import os\n",
    "\n",
    "project_root = os.path.abspath(\"\")\n",
    "if project_root not in sys.path:\n",
    "    sys.path.append(project_root)"
   ]
  },
  {
   "cell_type": "code",
   "execution_count": 16,
   "id": "4f37b45c",
   "metadata": {},
   "outputs": [
    {
     "name": "stdout",
     "output_type": "stream",
     "text": [
      "Now working in: /home/divyansh-rawat/AIML in Production-Texti/research\n",
      "/home/divyansh-rawat/AIML in Production-Texti/research\n"
     ]
    }
   ],
   "source": [
    "import os\n",
    "os.chdir(os.path.dirname(os.path.abspath(\"01_data_ingestion.ipynb\")))\n",
    "print(\"Now working in:\", os.getcwd())\n",
    "import sys\n",
    "sys.path.append(os.getcwd())\n",
    "\n",
    "print(os.getcwd())"
   ]
  },
  {
   "cell_type": "code",
   "execution_count": 17,
   "id": "c32fab35",
   "metadata": {},
   "outputs": [],
   "source": [
    "\n",
    "\n",
    "from textsummarizer.constants import *\n",
    "from textsummarizer.utils.common import read_yaml, create_directories\n"
   ]
  },
  {
   "cell_type": "code",
   "execution_count": 18,
   "id": "c5fff313",
   "metadata": {},
   "outputs": [],
   "source": [
    "# Define the config file paths before using them\n",
    "from pathlib import Path\n",
    "\n",
    "CONFIG_FILE_PATH = Path(\"config/config.yaml\")\n",
    "PARAMS_FILE_PATH = Path(\"params.yaml\")\n",
    "\n",
    "class ConfigurationManager:\n",
    "    def __init__(self, config_filepath=CONFIG_FILE_PATH, params_filepath=PARAMS_FILE_PATH):\n",
    "        self.config = read_yaml(config_filepath)\n",
    "        self.params = read_yaml(params_filepath)\n",
    "        create_directories([self.config.artifacts_root])\n",
    "    \n",
    "    def get_data_ingestion_config(self) -> DataIngestionConfig:\n",
    "        config = self.config.data_ingestion\n",
    "        create_directories([config.root_dir])\n",
    "        \n",
    "        data_ingestion_config = DataIngestionConfig(\n",
    "            root_dir=Path(config.root_dir),\n",
    "            source_url=config.source_url,\n",
    "            local_data_file=Path(config.local_data_file),\n",
    "            unzip_dir=Path(config.unzip_dir)\n",
    "        )\n",
    "        \n",
    "        return data_ingestion_config"
   ]
  },
  {
   "cell_type": "code",
   "execution_count": 19,
   "id": "983baee8",
   "metadata": {},
   "outputs": [],
   "source": [
    "#updating components\n",
    "import os \n",
    "import urllib.request\n",
    "import zipfile\n",
    "from textsummarizer.logging.logger import logger\n",
    "from textsummarizer.utils.common import get_size\n"
   ]
  },
  {
   "cell_type": "code",
   "execution_count": 20,
   "id": "84c36132",
   "metadata": {},
   "outputs": [],
   "source": [
    "from typing import List"
   ]
  },
  {
   "cell_type": "code",
   "execution_count": 21,
   "id": "dac9d85b",
   "metadata": {},
   "outputs": [],
   "source": [
    "class DataIngestion:\n",
    "    def __init__(self, config: DataIngestionConfig):\n",
    "        self.config = config\n",
    "\n",
    "    def download_file(self):\n",
    "        if not os.path.exists(self.config.local_data_file):\n",
    "            filename, headers = urllib.request.urlretrieve(\n",
    "                url=self.config.source_url,\n",
    "                filename=self.config.local_data_file\n",
    "            )\n",
    "            logger.info(f\"{filename} downloaded with following info: \\n{headers}\")\n",
    "        else:\n",
    "            logger.info(f\"File already exists of size: {get_size(Path(self.config.local_data_file))}\")\n",
    "\n",
    "    def extract_zip_file(self):\n",
    "        unzip_path = self.config.unzip_dir\n",
    "        os.makedirs(unzip_path, exist_ok=True)\n",
    "        with zipfile.ZipFile(self.config.local_data_file, 'r') as zip_ref:\n",
    "            zip_ref.extractall(unzip_path)\n",
    "        logger.info(f\"Extracted zip file to: {unzip_path}\")"
   ]
  },
  {
   "cell_type": "code",
   "execution_count": 22,
   "id": "9b90ab92",
   "metadata": {},
   "outputs": [
    {
     "name": "stdout",
     "output_type": "stream",
     "text": [
      "[2025-06-24 13:58:38,429 : INFO: common: YAML file: config/config.yaml loaded successfully]\n",
      "[2025-06-24 13:58:38,432 : INFO: common: YAML file: params.yaml loaded successfully]\n",
      "[2025-06-24 13:58:38,433 : INFO: common: Created directory at: artifacts]\n",
      "[2025-06-24 13:58:38,434 : INFO: common: Created directory at: artifacts/data_ingestion]\n",
      "[2025-06-24 13:58:38,435 : INFO: 3551777241: File already exists of size: ~ 7718.35 KB]\n",
      "[2025-06-24 13:58:38,639 : INFO: 3551777241: Extracted zip file to: artifacts/data_ingestion]\n"
     ]
    }
   ],
   "source": [
    "try:\n",
    "    config = ConfigurationManager()\n",
    "    data_ingestion_config = config.get_data_ingestion_config()\n",
    "    data_ingestion = DataIngestion(config=data_ingestion_config)\n",
    "    data_ingestion.download_file()\n",
    "    data_ingestion.extract_zip_file()\n",
    "except Exception as e:\n",
    "    raise e"
   ]
  },
  {
   "cell_type": "code",
   "execution_count": 23,
   "id": "7da2cff1",
   "metadata": {},
   "outputs": [],
   "source": [
    "#modular coding\n",
    "\n"
   ]
  },
  {
   "cell_type": "code",
   "execution_count": null,
   "id": "8dd759ea",
   "metadata": {},
   "outputs": [],
   "source": []
  }
 ],
 "metadata": {
  "kernelspec": {
   "display_name": "env",
   "language": "python",
   "name": "python3"
  },
  "language_info": {
   "codemirror_mode": {
    "name": "ipython",
    "version": 3
   },
   "file_extension": ".py",
   "mimetype": "text/x-python",
   "name": "python",
   "nbconvert_exporter": "python",
   "pygments_lexer": "ipython3",
   "version": "3.12.3"
  }
 },
 "nbformat": 4,
 "nbformat_minor": 5
}
